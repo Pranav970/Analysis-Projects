import pandas as pd
from src.modeling import lstm_model
from src.preprocessing import feature_engineering
import numpy as np
# Load your prepared data (replace with actual data loading)
# Make sure it's in the correct format for the LSTM model
try:
    df = pd.read_csv("processed_data/combined_data.csv", index_col='timestamp', parse_dates=True)
    print(df.head())
except FileNotFoundError:
    print("processed_data/combined_data.csv not found.  Run main.py first.")
except Exception as e:
    print(f"Error loading data: {e}")

# If the data loaded successfully, proceed with modeling
if 'df' in locals(): #check if dataframe exists
    # 1. Data Preparation
    SEQUENCE_LENGTH = 10 # tune
    X_train, X_test, y_train, y_test, scaler = lstm_model.prepare_data(df.copy(), SEQUENCE_LENGTH) #pass a copy

    # 2. Model Creation and Training
    NUM_FEATURES = X_train.shape[2]
    INPUT_SHAPE = (SEQUENCE_LENGTH, NUM_FEATURES)
    model = lstm_model.create_lstm_model(INPUT_SHAPE)
    model = lstm_model.train_model(model, X_train, y_train, epochs=10, batch_size=32)

    # 3. Prediction and Evaluation
    predicted_prices = lstm_model.predict_prices(model, X_test, scaler)

    # Visualizing
    import matplotlib.pyplot as plt
    y_test_original_scale = scaler.inverse_transform(np.concatenate((y_test.reshape(-1, 1), np.zeros((len(y_test), df.shape[1]-1))), axis=1))[:, 0]
    # Create a zero array to hold predicted values, same columns as original scaled data
    dummy_predicted = np.zeros((len(predicted_prices), df.shape[1]))

    # Place your predictions in the correct column
    dummy_predicted[:, 0] = predicted_prices  # predicted prices must be placed in the first column

    # Inverse transform
    predicted_prices_original_scale = scaler.inverse_transform(dummy_predicted)[:, 0]

    # Plot the results
    plt.figure(figsize=(14, 5))
    plt.plot(y_test_original_scale, color='red', label='Original Price')
    plt.plot(predicted_prices_original_scale, color='blue', label='Predicted Price')
    plt.title('Cryptocurrency Price Prediction')
    plt.xlabel('Time')
    plt.ylabel('Price')
    plt.legend()
    plt.show()

    #Evaluation
    from sklearn.metrics import mean_squared_error, mean_absolute_error
    rmse = np.sqrt(mean_squared_error(y_test_original_scale[:len(predicted_prices_original_scale)], predicted_prices_original_scale))
    mae = mean_absolute_error(y_test_original_scale[:len(predicted_prices_original_scale)], predicted_prices_original_scale)

    print(f"Root Mean Squared Error (RMSE): {rmse}")
    print(f"Mean Absolute Error (MAE): {mae}")
