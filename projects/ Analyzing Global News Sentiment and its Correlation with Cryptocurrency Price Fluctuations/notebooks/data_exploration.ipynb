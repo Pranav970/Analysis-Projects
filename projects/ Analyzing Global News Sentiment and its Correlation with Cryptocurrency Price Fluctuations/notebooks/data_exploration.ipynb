# This notebook is for exploring the data and testing out different ideas.
# You can use it to:
#   - Load data from the database
#   - Visualize price and sentiment data
#   - Test different sentiment analysis techniques
#   - Experiment with feature engineering

import pandas as pd
import matplotlib.pyplot as plt
import seaborn as sns
from src.database import db_setup  # Assuming you want to test DB connections

# Sample code to connect to the database (replace with your actual data loading)
# You might want to load from processed_data/ instead
# try:
#     conn = db_setup.connect_to_db()
#     query = "SELECT * FROM crypto_prices LIMIT 100;" # Example query
#     df = pd.read_sql(query, conn)
#     print(df.head())
#     conn.close()
# except Exception as e:
#     print(f"Error connecting to database or running query: {e}")

# Example code to read data from CSV
try:
    df = pd.read_csv("processed_data/combined_data.csv")
    df['timestamp'] = pd.to_datetime(df['timestamp'])
    df = df.set_index('timestamp')
    print(df.head())
except FileNotFoundError:
    print("processed_data/combined_data.csv not found.  Make sure the main.py has run first.")
except Exception as e:
    print(f"Error loading processed_data/combined_data.csv: {e}")

# Example visualizations (only if data has loaded):
if 'df' in locals(): #check if dataframe exists
    plt.figure(figsize=(12, 6))
    plt.plot(df['price'])
    plt.title('Bitcoin Price Over Time')
    plt.xlabel('Date')
    plt.ylabel('Price (USD)')
    plt.show()

    plt.figure(figsize=(12, 6))
    sns.histplot(df['sentiment_score'], kde=True)
    plt.title('Distribution of Sentiment Scores')
    plt.xlabel('Sentiment Score')
    plt.ylabel('Frequency')
    plt.show()

    #Correlation Matrix:
    correlation_matrix = df.corr()
    plt.figure(figsize=(10, 8))
    sns.heatmap(correlation_matrix, annot=True, cmap="coolwarm")
    plt.title("Correlation Matrix of Crypto Prices and Sentiment")
    plt.show()

# Add more exploration and testing code here
