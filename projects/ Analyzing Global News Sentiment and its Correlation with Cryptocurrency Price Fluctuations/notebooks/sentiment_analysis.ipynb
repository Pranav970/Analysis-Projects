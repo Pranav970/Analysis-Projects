# --- Sentiment Analysis Exploration Notebook ---
# This notebook is for experimenting with different sentiment analysis techniques.

import pandas as pd
from src.preprocessing import cleaner, sentiment

# Load sample news data (replace with actual data loading from database or file)
sample_news = [
    {"title": "Bitcoin surges to new record high!", "description": "Enthusiasm grows as Bitcoin breaks $70,000."},
    {"title": "Bitcoin price plummets after regulatory concerns.", "description": "Investors worry as regulators signal potential crackdown."},
    {"title": "Ethereum upgrade successful, transaction fees reduced.", "description": "Ethereums upgrade reduced fees"},
    {"title": "Dogecoin gains traction due to social media buzz.", "description": "Dogecoin gains traction due to social media buzz"},
]

# Create a Pandas DataFrame from the sample news
df = pd.DataFrame(sample_news)

# Clean the text
df['cleaned_text'] = df.apply(lambda row: cleaner.clean_text(row['title'] + ' ' + row['description']), axis=1)

# Perform sentiment analysis using VADER
df['sentiment_scores'] = df['cleaned_text'].apply(sentiment.analyze_sentiment)

# Extract the compound sentiment score
df['compound_score'] = df['sentiment_scores'].apply(lambda x: x['compound'])

# Print the results
print(df[['title', 'compound_score']])

# Experiment with other sentiment analysis libraries (TextBlob, etc.) and compare results
